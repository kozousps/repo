{
 "cells": [
  {
   "cell_type": "markdown",
   "id": "abf1f67f",
   "metadata": {},
   "source": [
    "# Week 3\n",
    "\n",
    "Create object that holds cumulative miles at end of day and show total miles for each day. "
   ]
  },
  {
   "cell_type": "code",
   "execution_count": 23,
   "id": "c6d7563c",
   "metadata": {},
   "outputs": [
    {
     "name": "stdout",
     "output_type": "stream",
     "text": [
      "   Day  Miles\n",
      "0    1     55\n",
      "1    2    120\n"
     ]
    }
   ],
   "source": [
    "# starting point\n",
    "\n",
    "import pandas as pd\n",
    "\n",
    "df = pd.DataFrame({'Day':[1, 2],\n",
    "                   'Miles':[55, 120]\n",
    "                  })\n",
    "print(df)"
   ]
  },
  {
   "cell_type": "code",
   "execution_count": 52,
   "id": "44ddd848",
   "metadata": {},
   "outputs": [
    {
     "name": "stdout",
     "output_type": "stream",
     "text": [
      "Today's total distance:\n",
      "200\n",
      "\n",
      " Total Distances Cycled:\n",
      "    Day  Miles\n",
      "0    1     55\n",
      "1    2    120\n",
      "2    3    150\n",
      "3    4    200\n"
     ]
    }
   ],
   "source": [
    "# Later adds to series.\n",
    "\n",
    "print('Today\\'s total distance:')\n",
    "z = int(input())\n",
    "df.loc[len(df)] = [len(df)+1, z]\n",
    "print(\"\\n Total Distances Cycled:\\n\",\n",
    "    df)"
   ]
  },
  {
   "cell_type": "code",
   "execution_count": 53,
   "id": "c437e4dd",
   "metadata": {},
   "outputs": [
    {
     "name": "stdout",
     "output_type": "stream",
     "text": [
      "Total Distances:\n",
      "    Day  Miles\n",
      "0    1     55\n",
      "1    2    120\n",
      "2    3    150\n",
      "3    4    200\n",
      "\n",
      "Distances per day:\n",
      "    Day  Miles\n",
      "0    1   55.0\n",
      "1    2   65.0\n",
      "2    3   30.0\n",
      "3    4   50.0\n"
     ]
    }
   ],
   "source": [
    "# Format and Prints \n",
    "\n",
    "print('Total Distances:\\n', df)\n",
    "difference = df.diff()\n",
    "difference.loc[0] = [1, 55]\n",
    "difference['Day'] = df['Day']\n",
    "print('\\nDistances per day:\\n', difference)"
   ]
  },
  {
   "cell_type": "code",
   "execution_count": null,
   "id": "919f0e93",
   "metadata": {},
   "outputs": [],
   "source": []
  }
 ],
 "metadata": {
  "kernelspec": {
   "display_name": "Python 3 (ipykernel)",
   "language": "python",
   "name": "python3"
  },
  "language_info": {
   "codemirror_mode": {
    "name": "ipython",
    "version": 3
   },
   "file_extension": ".py",
   "mimetype": "text/x-python",
   "name": "python",
   "nbconvert_exporter": "python",
   "pygments_lexer": "ipython3",
   "version": "3.9.1"
  }
 },
 "nbformat": 4,
 "nbformat_minor": 5
}
