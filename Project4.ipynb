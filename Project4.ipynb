{
 "cells": [
  {
   "cell_type": "markdown",
   "id": "847b8216",
   "metadata": {},
   "source": [
    "# Project 4\n",
    "Load Dataframe and name Headers"
   ]
  },
  {
   "cell_type": "code",
   "execution_count": 138,
   "id": "d1260113",
   "metadata": {},
   "outputs": [],
   "source": [
    "import pandas as pd\n",
    "import numpy as np\n",
    "import seaborn as sns\n",
    "import matplotlib.pyplot as plt\n",
    "import sklearn as sl\n",
    "%matplotlib inline\n",
    "\n",
    "\n",
    "df = pd.read_csv('https://archive.ics.uci.edu/ml/machine-learning-databases/mushroom/agaricus-lepiota.data',\n",
    "                 names = ['classes', 'cap-shape', 'cap-surface', 'cap-color', 'bruises', 'odor', 'gill-attachment', 'gill-spacing', 'gill-size', 'gill-color',\n",
    "                         'stalk-shape', 'stalk-root', 'stalk-surface-above-ring', 'stalk-surface-below-ring', 'stalk-color-above-ring', 'stalk-color-below-ring',\n",
    "                         'veil-type', 'veil-color', 'ring-number', 'ring-type', 'spore-print-color', 'population', 'habitat'])"
   ]
  },
  {
   "cell_type": "markdown",
   "id": "01935ca4",
   "metadata": {},
   "source": [
    "Select Desired Series and format"
   ]
  },
  {
   "cell_type": "code",
   "execution_count": 139,
   "id": "fe6ebbf9",
   "metadata": {},
   "outputs": [],
   "source": [
    "result = df[['classes', 'odor', 'habitat']]"
   ]
  },
  {
   "cell_type": "code",
   "execution_count": 140,
   "id": "9913049a",
   "metadata": {},
   "outputs": [
    {
     "name": "stderr",
     "output_type": "stream",
     "text": [
      "C:\\Users\\kou_o\\AppData\\Local\\Temp\\ipykernel_8140\\1422912716.py:1: SettingWithCopyWarning: \n",
      "A value is trying to be set on a copy of a slice from a DataFrame.\n",
      "Try using .loc[row_indexer,col_indexer] = value instead\n",
      "\n",
      "See the caveats in the documentation: https://pandas.pydata.org/pandas-docs/stable/user_guide/indexing.html#returning-a-view-versus-a-copy\n",
      "  result['classes'] = result['classes'].replace(['e', 'p'], [0, 1])\n",
      "C:\\Users\\kou_o\\AppData\\Local\\Temp\\ipykernel_8140\\1422912716.py:2: SettingWithCopyWarning: \n",
      "A value is trying to be set on a copy of a slice from a DataFrame.\n",
      "Try using .loc[row_indexer,col_indexer] = value instead\n",
      "\n",
      "See the caveats in the documentation: https://pandas.pydata.org/pandas-docs/stable/user_guide/indexing.html#returning-a-view-versus-a-copy\n",
      "  result['odor'] = result['odor'].replace(['a', 'l', 'c', 'y', 'f', 'm', 'n', 'p', 's'], [0, 1, 2, 3, 4, 5, 6, 7, 8])\n",
      "C:\\Users\\kou_o\\AppData\\Local\\Temp\\ipykernel_8140\\1422912716.py:3: SettingWithCopyWarning: \n",
      "A value is trying to be set on a copy of a slice from a DataFrame.\n",
      "Try using .loc[row_indexer,col_indexer] = value instead\n",
      "\n",
      "See the caveats in the documentation: https://pandas.pydata.org/pandas-docs/stable/user_guide/indexing.html#returning-a-view-versus-a-copy\n",
      "  result['habitat'] = result['habitat'].replace(['g', 'l', 'm', 'p', 'u', 'w', 'd'], [0, 1, 2, 3, 4, 5, 6])\n"
     ]
    },
    {
     "data": {
      "text/html": [
       "<div>\n",
       "<style scoped>\n",
       "    .dataframe tbody tr th:only-of-type {\n",
       "        vertical-align: middle;\n",
       "    }\n",
       "\n",
       "    .dataframe tbody tr th {\n",
       "        vertical-align: top;\n",
       "    }\n",
       "\n",
       "    .dataframe thead th {\n",
       "        text-align: right;\n",
       "    }\n",
       "</style>\n",
       "<table border=\"1\" class=\"dataframe\">\n",
       "  <thead>\n",
       "    <tr style=\"text-align: right;\">\n",
       "      <th></th>\n",
       "      <th>classes</th>\n",
       "      <th>odor</th>\n",
       "      <th>habitat</th>\n",
       "    </tr>\n",
       "  </thead>\n",
       "  <tbody>\n",
       "    <tr>\n",
       "      <th>0</th>\n",
       "      <td>1</td>\n",
       "      <td>7</td>\n",
       "      <td>4</td>\n",
       "    </tr>\n",
       "    <tr>\n",
       "      <th>1</th>\n",
       "      <td>0</td>\n",
       "      <td>0</td>\n",
       "      <td>0</td>\n",
       "    </tr>\n",
       "    <tr>\n",
       "      <th>2</th>\n",
       "      <td>0</td>\n",
       "      <td>1</td>\n",
       "      <td>2</td>\n",
       "    </tr>\n",
       "    <tr>\n",
       "      <th>3</th>\n",
       "      <td>1</td>\n",
       "      <td>7</td>\n",
       "      <td>4</td>\n",
       "    </tr>\n",
       "    <tr>\n",
       "      <th>4</th>\n",
       "      <td>0</td>\n",
       "      <td>6</td>\n",
       "      <td>0</td>\n",
       "    </tr>\n",
       "  </tbody>\n",
       "</table>\n",
       "</div>"
      ],
      "text/plain": [
       "   classes  odor  habitat\n",
       "0        1     7        4\n",
       "1        0     0        0\n",
       "2        0     1        2\n",
       "3        1     7        4\n",
       "4        0     6        0"
      ]
     },
     "execution_count": 140,
     "metadata": {},
     "output_type": "execute_result"
    }
   ],
   "source": [
    "result['classes'] = result['classes'].replace(['e', 'p'], [0, 1])\n",
    "result['odor'] = result['odor'].replace(['a', 'l', 'c', 'y', 'f', 'm', 'n', 'p', 's'], [0, 1, 2, 3, 4, 5, 6, 7, 8])\n",
    "result['habitat'] = result['habitat'].replace(['g', 'l', 'm', 'p', 'u', 'w', 'd'], [0, 1, 2, 3, 4, 5, 6])\n",
    "result.head()"
   ]
  },
  {
   "cell_type": "markdown",
   "id": "7b4f60af",
   "metadata": {},
   "source": [
    "Setup Test on KNN and define parameters. X for fun can compare based on both parameters."
   ]
  },
  {
   "cell_type": "code",
   "execution_count": 141,
   "id": "cb8e3c05",
   "metadata": {},
   "outputs": [],
   "source": [
    "from sklearn.neighbors import KNeighborsClassifier\n",
    "knn = KNeighborsClassifier(n_neighbors=1)"
   ]
  },
  {
   "cell_type": "code",
   "execution_count": 144,
   "id": "79799252",
   "metadata": {},
   "outputs": [],
   "source": [
    "X = result[['odor', 'habitat']]\n",
    "X1 = result[['odor']]\n",
    "X2 = result[['habitat']]\n",
    "y = result['classes']"
   ]
  },
  {
   "cell_type": "markdown",
   "id": "9aa3cfb2",
   "metadata": {},
   "source": [
    "Compare accuracy scores of Odor and Habitat"
   ]
  },
  {
   "cell_type": "code",
   "execution_count": 147,
   "id": "e46ac1a5",
   "metadata": {},
   "outputs": [
    {
     "data": {
      "text/plain": [
       "0.9852289512555391"
      ]
     },
     "execution_count": 147,
     "metadata": {},
     "output_type": "execute_result"
    }
   ],
   "source": [
    "from sklearn import metrics\n",
    "\n",
    "knn.fit(X1, y)\n",
    "y_pred = knn.predict(X1)\n",
    "metrics.accuracy_score(y, y_pred)"
   ]
  },
  {
   "cell_type": "code",
   "execution_count": 148,
   "id": "fded752c",
   "metadata": {},
   "outputs": [
    {
     "data": {
      "text/plain": [
       "0.5007385524372231"
      ]
     },
     "execution_count": 148,
     "metadata": {},
     "output_type": "execute_result"
    }
   ],
   "source": [
    "knn.fit(X2, y)\n",
    "y1_pred = knn.predict(X2)\n",
    "metrics.accuracy_score(y, y1_pred)"
   ]
  },
  {
   "cell_type": "markdown",
   "id": "5fcf5a9b",
   "metadata": {},
   "source": [
    "Confirmation that Odor is a better indicator than Habitat"
   ]
  },
  {
   "cell_type": "code",
   "execution_count": 149,
   "id": "f0cbd1b5",
   "metadata": {},
   "outputs": [
    {
     "data": {
      "text/plain": [
       "<seaborn.axisgrid.PairGrid at 0x217fc2137f0>"
      ]
     },
     "execution_count": 149,
     "metadata": {},
     "output_type": "execute_result"
    },
    {
     "data": {
      "image/png": "[encoded data removed]",
      "text/plain": [
       "<Figure size 500x250 with 2 Axes>"
      ]
     },
     "metadata": {},
     "output_type": "display_data"
    }
   ],
   "source": [
    "sns.pairplot(result, x_vars=['odor', 'habitat'], y_vars='classes')"
   ]
  },
  {
   "cell_type": "code",
   "execution_count": null,
   "id": "a1452cd8",
   "metadata": {},
   "outputs": [],
   "source": []
  }
 ],
 "metadata": {
  "kernelspec": {
   "display_name": "Python 3 (ipykernel)",
   "language": "python",
   "name": "python3"
  },
  "language_info": {
   "codemirror_mode": {
    "name": "ipython",
    "version": 3
   },
   "file_extension": ".py",
   "mimetype": "text/x-python",
   "name": "python",
   "nbconvert_exporter": "python",
   "pygments_lexer": "ipython3",
   "version": "3.9.1"
  }
 },
 "nbformat": 4,
 "nbformat_minor": 5
}
