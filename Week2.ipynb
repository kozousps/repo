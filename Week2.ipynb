{
 "cells": [
  {
   "cell_type": "markdown",
   "id": "c3b84c3e-3a38-42f4-b567-a65e58d3a5bb",
   "metadata": {},
   "source": [
    "# Data Structure Difficulties\n",
    "\n",
    "I remember I had issues with __attributes__ like immutability back when learning to code. Since I haven't been coding as much as I'd like, I'm sure the issue will come back again. \n",
    "This always caused problems when I worked with tuples. "
   ]
  },
  {
   "cell_type": "code",
   "execution_count": 9,
   "id": "183a7b8b-a69f-486a-a341-001f2c212dbe",
   "metadata": {},
   "outputs": [
    {
     "name": "stdout",
     "output_type": "stream",
     "text": [
      "Before append: 1772033865184\n"
     ]
    },
    {
     "ename": "AttributeError",
     "evalue": "'tuple' object has no attribute 'append'",
     "output_type": "error",
     "traceback": [
      "\u001b[1;31m---------------------------------------------------------------------------\u001b[0m",
      "\u001b[1;31mAttributeError\u001b[0m                            Traceback (most recent call last)",
      "Input \u001b[1;32mIn [9]\u001b[0m, in \u001b[0;36m<cell line: 8>\u001b[1;34m()\u001b[0m\n\u001b[0;32m      5\u001b[0m     t\u001b[38;5;241m.\u001b[39mappend(\u001b[38;5;241m5\u001b[39m)\n\u001b[0;32m      6\u001b[0m     \u001b[38;5;28mprint\u001b[39m(\u001b[38;5;124m\"\u001b[39m\u001b[38;5;124mAfter append:\u001b[39m\u001b[38;5;124m\"\u001b[39m, \u001b[38;5;28mid\u001b[39m(t))\n\u001b[1;32m----> 8\u001b[0m \u001b[43mmy_append\u001b[49m\u001b[43m(\u001b[49m\u001b[43mmy_tuple\u001b[49m\u001b[43m)\u001b[49m\n",
      "Input \u001b[1;32mIn [9]\u001b[0m, in \u001b[0;36mmy_append\u001b[1;34m(t)\u001b[0m\n\u001b[0;32m      3\u001b[0m \u001b[38;5;28;01mdef\u001b[39;00m \u001b[38;5;21mmy_append\u001b[39m(t):\n\u001b[0;32m      4\u001b[0m     \u001b[38;5;28mprint\u001b[39m(\u001b[38;5;124m\"\u001b[39m\u001b[38;5;124mBefore append:\u001b[39m\u001b[38;5;124m\"\u001b[39m, \u001b[38;5;28mid\u001b[39m(t))\n\u001b[1;32m----> 5\u001b[0m     \u001b[43mt\u001b[49m\u001b[38;5;241;43m.\u001b[39;49m\u001b[43mappend\u001b[49m(\u001b[38;5;241m5\u001b[39m)\n\u001b[0;32m      6\u001b[0m     \u001b[38;5;28mprint\u001b[39m(\u001b[38;5;124m\"\u001b[39m\u001b[38;5;124mAfter append:\u001b[39m\u001b[38;5;124m\"\u001b[39m, \u001b[38;5;28mid\u001b[39m(t))\n",
      "\u001b[1;31mAttributeError\u001b[0m: 'tuple' object has no attribute 'append'"
     ]
    }
   ],
   "source": [
    "my_tuple = (1, 2, 3, 4)\n",
    "\n",
    "def my_append(t):\n",
    "    print(\"Before append:\", id(t))\n",
    "    t.append(5)\n",
    "    print(\"After append:\", id(t))\n",
    "          \n",
    "my_append(my_tuple)"
   ]
  },
  {
   "cell_type": "markdown",
   "id": "61015b4c-6564-4203-a8a1-4f1a5362687e",
   "metadata": {},
   "source": [
    "I know this is a simple issue but I always seem to forget what attribute is included in each data structure. "
   ]
  },
  {
   "cell_type": "code",
   "execution_count": null,
   "id": "93fe42a8-1155-4e85-8801-b0639aab0f5c",
   "metadata": {},
   "outputs": [],
   "source": []
  }
 ],
 "metadata": {
  "kernelspec": {
   "display_name": "Python 3 (ipykernel)",
   "language": "python",
   "name": "python3"
  },
  "language_info": {
   "codemirror_mode": {
    "name": "ipython",
    "version": 3
   },
   "file_extension": ".py",
   "mimetype": "text/x-python",
   "name": "python",
   "nbconvert_exporter": "python",
   "pygments_lexer": "ipython3",
   "version": "3.9.1"
  }
 },
 "nbformat": 4,
 "nbformat_minor": 5
}
