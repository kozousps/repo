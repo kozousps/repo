{
 "cells": [
  {
   "cell_type": "markdown",
   "id": "5a24d945",
   "metadata": {},
   "source": [
    "Including background SQL code because unable to find URL/DB"
   ]
  },
  {
   "cell_type": "code",
   "execution_count": 94,
   "id": "4036aa95",
   "metadata": {},
   "outputs": [],
   "source": [
    "import sqlite3\n",
    "conn = sqlite3.connect('proj3.db')\n",
    "cursor = conn.cursor()"
   ]
  },
  {
   "cell_type": "code",
   "execution_count": 95,
   "id": "6320e864",
   "metadata": {},
   "outputs": [],
   "source": [
    "cursor.execute('DROP TABLE Customer')\n",
    "cursor.execute('DROP TABLE Invoice')\n",
    "cursor.execute('DROP TABLE Tracks')\n",
    "cursor.execute('DROP TABLE Songs')\n",
    "cursor.execute('DROP TABLE Albums')\n",
    "\n",
    "cursor.execute('CREATE TABLE Customer(CustomerId INT, LastName TEXT, FirstName TEXT)')\n",
    "cursor.execute('CREATE TABLE Invoice(InvoiceId INT, CustomerID INT, TrackId INT)')\n",
    "cursor.execute('CREATE TABLE Tracks(TrackId INT, SongID INT, AlbumId INT)')\n",
    "cursor.execute('CREATE TABLE Songs(SongId INT, Song TEXT)')\n",
    "cursor.execute('CREATE TABLE Albums(AlbumId INT, Album TEXT)')\n",
    "\n",
    "cursor.execute(\"INSERT INTO Customer VALUES('100', 'Almeida', 'Roberto')\")\n",
    "cursor.execute(\"INSERT INTO Invoice VALUES('300', '100', '1')\")\n",
    "cursor.execute(\"INSERT INTO Invoice VALUES('300', '100', '2')\")\n",
    "cursor.execute(\"INSERT INTO Invoice VALUES('300', '100', '3')\")\n",
    "cursor.execute(\"INSERT INTO Tracks VALUES('1', '1', '1')\")\n",
    "cursor.execute(\"INSERT INTO Songs VALUES('1', 'Right Next Door to Hell')\")\n",
    "cursor.execute(\"INSERT INTO Albums VALUES('1', 'Sex Machine')\")\n",
    "cursor.execute(\"INSERT INTO Tracks VALUES('2', '2', '2')\")\n",
    "cursor.execute(\"INSERT INTO Songs VALUES('2', 'In The Evening')\")\n",
    "cursor.execute(\"INSERT INTO Albums VALUES('2', 'Maquinarama')\")\n",
    "cursor.execute(\"INSERT INTO Tracks VALUES('3', '3', '3')\")\n",
    "cursor.execute(\"INSERT INTO Songs VALUES('3', 'Fool In The Rain')\")\n",
    "cursor.execute(\"INSERT INTO Albums VALUES('3', 'O Samba Pocone')\")\n",
    "cursor.execute(\"INSERT INTO Customer Values('101', 'Bach', 'Johann')\")\n",
    "cursor.execute(\"INSERT INTO Invoice VALUES('300', '101', '1')\")\n",
    "cursor.execute(\"INSERT INTO Invoice VALUES('300', '101', '4')\")\n",
    "cursor.execute(\"INSERT INTO Tracks VALUES('4', '4', '4')\")\n",
    "cursor.execute(\"INSERT INTO Songs VALUES('4', 'Because')\")\n",
    "cursor.execute(\"INSERT INTO Albums VALUES('4', 'Abbey Road')\")\n",
    "\n",
    "conn.commit()"
   ]
  },
  {
   "cell_type": "markdown",
   "id": "7a286a71",
   "metadata": {},
   "source": [
    "# Project 3\n",
    "Create Connection to SQL DB"
   ]
  },
  {
   "cell_type": "code",
   "execution_count": 96,
   "id": "9e08434a",
   "metadata": {},
   "outputs": [],
   "source": [
    "import sqlite3\n",
    "import pandas as pd\n",
    "import sqlalchemy\n",
    "\n",
    "engine = sqlalchemy.create_engine('sqlite:///proj3.db')"
   ]
  },
  {
   "cell_type": "markdown",
   "id": "673c1f2e",
   "metadata": {},
   "source": [
    "Run SQL Query"
   ]
  },
  {
   "cell_type": "code",
   "execution_count": 97,
   "id": "0b29d260",
   "metadata": {},
   "outputs": [
    {
     "data": {
      "text/html": [
       "<div>\n",
       "<style scoped>\n",
       "    .dataframe tbody tr th:only-of-type {\n",
       "        vertical-align: middle;\n",
       "    }\n",
       "\n",
       "    .dataframe tbody tr th {\n",
       "        vertical-align: top;\n",
       "    }\n",
       "\n",
       "    .dataframe thead th {\n",
       "        text-align: right;\n",
       "    }\n",
       "</style>\n",
       "<table border=\"1\" class=\"dataframe\">\n",
       "  <thead>\n",
       "    <tr style=\"text-align: right;\">\n",
       "      <th></th>\n",
       "      <th>LastName</th>\n",
       "      <th>FirstName</th>\n",
       "      <th>Song</th>\n",
       "      <th>Album</th>\n",
       "    </tr>\n",
       "  </thead>\n",
       "  <tbody>\n",
       "    <tr>\n",
       "      <th>0</th>\n",
       "      <td>Almeida</td>\n",
       "      <td>Roberto</td>\n",
       "      <td>Right Next Door to Hell</td>\n",
       "      <td>Sex Machine</td>\n",
       "    </tr>\n",
       "    <tr>\n",
       "      <th>1</th>\n",
       "      <td>Almeida</td>\n",
       "      <td>Roberto</td>\n",
       "      <td>In The Evening</td>\n",
       "      <td>Maquinarama</td>\n",
       "    </tr>\n",
       "    <tr>\n",
       "      <th>2</th>\n",
       "      <td>Almeida</td>\n",
       "      <td>Roberto</td>\n",
       "      <td>Fool In The Rain</td>\n",
       "      <td>O Samba Pocone</td>\n",
       "    </tr>\n",
       "    <tr>\n",
       "      <th>3</th>\n",
       "      <td>Bach</td>\n",
       "      <td>Johann</td>\n",
       "      <td>Right Next Door to Hell</td>\n",
       "      <td>Sex Machine</td>\n",
       "    </tr>\n",
       "    <tr>\n",
       "      <th>4</th>\n",
       "      <td>Bach</td>\n",
       "      <td>Johann</td>\n",
       "      <td>Because</td>\n",
       "      <td>Abbey Road</td>\n",
       "    </tr>\n",
       "  </tbody>\n",
       "</table>\n",
       "</div>"
      ],
      "text/plain": [
       "  LastName FirstName                     Song           Album\n",
       "0  Almeida   Roberto  Right Next Door to Hell     Sex Machine\n",
       "1  Almeida   Roberto           In The Evening     Maquinarama\n",
       "2  Almeida   Roberto         Fool In The Rain  O Samba Pocone\n",
       "3     Bach    Johann  Right Next Door to Hell     Sex Machine\n",
       "4     Bach    Johann                  Because      Abbey Road"
      ]
     },
     "execution_count": 97,
     "metadata": {},
     "output_type": "execute_result"
    }
   ],
   "source": [
    "pd.read_sql(\"\"\"SELECT LastName, FirstName, Song, Album \n",
    "               FROM Customer C, Invoice I, Tracks T, Songs S, Albums A\n",
    "               WHERE C.CustomerId = I.CustomerId\n",
    "               AND I.TrackId = T.TrackId\n",
    "               AND T.TrackId = S.SongId\n",
    "               AND T.AlbumId = A.AlbumId\n",
    "               ORDER BY LastName, FirstName\"\"\", engine)"
   ]
  },
  {
   "cell_type": "code",
   "execution_count": null,
   "id": "02fb164a",
   "metadata": {},
   "outputs": [],
   "source": []
  }
 ],
 "metadata": {
  "kernelspec": {
   "display_name": "Python 3 (ipykernel)",
   "language": "python",
   "name": "python3"
  },
  "language_info": {
   "codemirror_mode": {
    "name": "ipython",
    "version": 3
   },
   "file_extension": ".py",
   "mimetype": "text/x-python",
   "name": "python",
   "nbconvert_exporter": "python",
   "pygments_lexer": "ipython3",
   "version": "3.9.1"
  }
 },
 "nbformat": 4,
 "nbformat_minor": 5
}
